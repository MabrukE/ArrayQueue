{
  "nbformat": 4,
  "nbformat_minor": 0,
  "metadata": {
    "colab": {
      "provenance": [],
      "authorship_tag": "ABX9TyONOapGCEeeh7t573zfAy1N",
      "include_colab_link": true
    },
    "kernelspec": {
      "name": "python3",
      "display_name": "Python 3"
    },
    "language_info": {
      "name": "python"
    }
  },
  "cells": [
    {
      "cell_type": "markdown",
      "metadata": {
        "id": "view-in-github",
        "colab_type": "text"
      },
      "source": [
        "<a href=\"https://colab.research.google.com/github/MabrukE/Code-Doc/blob/main/ArrayQueue.ipynb\" target=\"_parent\"><img src=\"https://colab.research.google.com/assets/colab-badge.svg\" alt=\"Open In Colab\"/></a>"
      ]
    },
    {
      "cell_type": "code",
      "execution_count": null,
      "metadata": {
        "id": "-DxGjHEAyD4n"
      },
      "outputs": [],
      "source": [
        "class ArrayQueue:\n",
        "  def __init__(self, maximum_length = -1):\n",
        "    self.queue_list = [0]\n",
        "    self.front_index = 0\n",
        "    self.length = 0\n",
        "    self.max_length = maximum_length\n",
        "\n",
        "  def get_length(self):\n",
        "    return self.length\n",
        "\n",
        "  def get_max_length(self, item):\n",
        "    return self.max_length\n",
        "\n",
        "  def enqueue(self, item):\n",
        "    if self.length == self.max_length:\n",
        "      return False\n",
        "\n",
        "    if self.length == len(self.queue_list):\n",
        "      self.resize()\n",
        "\n",
        "      item_index = (self.front_index + self.length) % len(self.queue_list)\n",
        "      self.queue_list[item_index]= item\n",
        "      self.length +=1\n",
        "      return True\n",
        "\n",
        "  def dequeue(self):\n",
        "    to_return = self.queue_list[self.front_index]\n",
        "    self.length -=1\n",
        "    self.front_index = (self.front_index + 1) % len(self.queue_list)\n",
        "    return to_return\n",
        "\n",
        "  def resize(self):\n",
        "    new_size = len(self.queue_list) *2\n",
        "    if self.max_length >=0 and new_size > self.max_length:\n",
        "      new_szie = max_length\n",
        "    new_list = [0] * new_size\n",
        "    for i in range(self.length):\n",
        "      item_index = (self.front_index + i) % len(self.queue_list)\n",
        "      new_index[i] = self.queue_list[item_index]\n",
        "\n",
        "  def resize(self):\n",
        "    new_size = len(self.queue_list)*2\n",
        "    if self.max_length >=0 and new_size > self.max_length:\n",
        "      new_size = max_length\n",
        "    new_list = [0] * new_size\n",
        "    for i in range(self.length):\n",
        "      item_index = (self.front_index + i) % len(self.queue_list)\n",
        "      new_list [i] = self.queue_list [item_index]\n",
        "    self.queue_list = new_list\n",
        "    self.front_index = 0"
      ]
    },
    {
      "cell_type": "code",
      "source": [
        "FirstName_Queue = ArrayQueue()\n",
        "LastName_Queue = ArrayQueue()\n",
        "\n",
        "Lname = 'Emmanuel'\n",
        "Fname = 'Mabruk'\n",
        "\n",
        "Lname = Lname.lower()\n",
        "Fname = Fname.lower()\n",
        "\n",
        "for item in Lname:\n",
        "  LastName_Queue.enqueue(item)\n",
        "for item in Fname:\n",
        "  FirstName_Queue.enqueue(item)\n",
        "\n",
        "Q1 = ''\n",
        "print('Last name: ', Lname)\n",
        "while LastName_Queue.get_length()>0:\n",
        "  Q1 += LastName_Queue.dequeue()\n",
        "\n",
        "Q2 = ''\n",
        "while FirstName_Queue.get_length()>0:\n",
        "  Q2 += FirstName_Queue.dequeue()\n",
        "print('First name: ', Fname)\n",
        "\n",
        "print('My Name: ', Q2, Q1,end =' ')\n",
        "print(Fname,Lname)\n",
        "Q1nQ2 =''\n",
        "for item in Q1:\n",
        "  if item in Q2:\n",
        "    Q1nQ2 +=item\n",
        "print(Q1nQ2)\n",
        "print()\n",
        "\n",
        "def namestring(FirstName_Queue, LastName_Queue):\n",
        "    Fname = set(FirstName_Queue.lower())\n",
        "    Lname = set(LastName_Queue.lower())\n",
        "    result1 = list(Fname.union(Lname))\n",
        "    result2 = list(Fname.intersection(Lname))\n",
        "    result3 = list(Fname.symmetric_difference(Lname))\n",
        "    result1.sort()\n",
        "    result2.sort()\n",
        "    result3.sort()\n",
        "    res1 = ''.join([str(x) for x in result1])\n",
        "    res2 = ''.join([str(x) for x in result2])\n",
        "    res3 = ''.join([str(x) for x in result3])\n",
        "    return (res1, res2, res3)\n",
        "\n",
        "print(namestring('Mabruk', 'Emmanuel'))"
      ],
      "metadata": {
        "colab": {
          "base_uri": "https://localhost:8080/"
        },
        "id": "_A8wZvGhH9-T",
        "outputId": "afd15a60-338f-4a63-e746-ccbf3c357b75"
      },
      "execution_count": null,
      "outputs": [
        {
          "output_type": "stream",
          "name": "stdout",
          "text": [
            "Last name:  emmanuel\n",
            "First name:  mabruk\n",
            "My Name:    mabruk emmanuel\n",
            "\n",
            "\n",
            "('abeklmnru', 'amu', 'beklnr')\n"
          ]
        }
      ]
    }
  ]
}