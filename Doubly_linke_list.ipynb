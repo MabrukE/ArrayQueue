{
  "nbformat": 4,
  "nbformat_minor": 0,
  "metadata": {
    "colab": {
      "provenance": [],
      "authorship_tag": "ABX9TyNedvcnmQS22GlNFsbjQ9Lc",
      "include_colab_link": true
    },
    "kernelspec": {
      "name": "python3",
      "display_name": "Python 3"
    },
    "language_info": {
      "name": "python"
    }
  },
  "cells": [
    {
      "cell_type": "markdown",
      "metadata": {
        "id": "view-in-github",
        "colab_type": "text"
      },
      "source": [
        "<a href=\"https://colab.research.google.com/github/MabrukE/Code-Doc/blob/main/Doubly_linke_list.ipynb\" target=\"_parent\"><img src=\"https://colab.research.google.com/assets/colab-badge.svg\" alt=\"Open In Colab\"/></a>"
      ]
    },
    {
      "cell_type": "code",
      "execution_count": null,
      "metadata": {
        "colab": {
          "base_uri": "https://localhost:8080/"
        },
        "id": "P0PCHcfVxrei",
        "outputId": "138ae03d-70f7-44e6-894a-ddfb432207e4"
      },
      "outputs": [
        {
          "output_type": "stream",
          "name": "stdout",
          "text": [
            "List before removing head and tail:  31 14 2 16 20 55 \n",
            "List after removing head and tail:  14 2 16 20 \n"
          ]
        }
      ],
      "source": [
        "class Node:\n",
        "    def __init__(self, initial_data):\n",
        "        self.data = initial_data\n",
        "        self.next = None\n",
        "        self.prev = None\n",
        "\n",
        "\n",
        "class Doublylinked_list:\n",
        "    def __init__(self):\n",
        "        self.head = None\n",
        "        self.tail = None\n",
        "\n",
        "    def append(self, new_node):\n",
        "        if self.head == None:\n",
        "            self.head = new_node\n",
        "            self.tail = new_node\n",
        "        else:\n",
        "            self.tail.next = new_node\n",
        "            new_node.pev = self.tail\n",
        "            self.tail = new_node\n",
        "\n",
        "    def prepend(self, new_node):\n",
        "        if self.head == None:\n",
        "           self.head = new_node\n",
        "           self.tail = new_node\n",
        "        else:\n",
        "           new_node.next = self.head\n",
        "           self.head.prev = new_node\n",
        "           self.head = new_node\n",
        "\n",
        "    def insert_after(self, current_node, new_node):\n",
        "        if self.head is None:\n",
        "           self.head = new_node\n",
        "           self.tail = new_node\n",
        "        elif current_node is self.tail:\n",
        "           self.tail.next = new_node\n",
        "           new_node.prev = self.tail\n",
        "           self.tail = new_node\n",
        "        else:\n",
        "           successor_node = current_node.next\n",
        "           new_node.next = successor_node\n",
        "           new_node.prev = current_node\n",
        "           current_node.prev = new_node\n",
        "           successor_node.prev = new_node\n",
        "\n",
        "    def remove(self, current_node):\n",
        "     headvalue=self.head\n",
        "     if (headvalue==None):\n",
        "      return\n",
        "\n",
        "     if(headvalue is not None):\n",
        "      if(headvalue.data==current_node.data):\n",
        "        self.head=headvalue.next\n",
        "        headvalue=None\n",
        "        return\n",
        "\n",
        "     while (headvalue is not None):\n",
        "      if headvalue.data==current_node.data:\n",
        "        break\n",
        "      prev=headvalue\n",
        "      headvalue=headvalue.next\n",
        "\n",
        "     prev.next=headvalue.next\n",
        "     headvalue = None\n",
        "\n",
        "num_list = Doublylinked_list()\n",
        "\n",
        "node_a = Node(14)\n",
        "node_b = Node(2)\n",
        "node_c = Node(16)\n",
        "node_d = Node(31)\n",
        "node_e = Node(20)\n",
        "node_f = Node(55)\n",
        "\n",
        "num_list.append(node_a)\n",
        "num_list.append(node_b)\n",
        "num_list.append(node_c)\n",
        "\n",
        "\n",
        "\n",
        "num_list.prepend(node_d)\n",
        "\n",
        "num_list.insert_after(node_b, node_e)\n",
        "\n",
        "num_list.append(node_e)\n",
        "num_list.append(node_f)\n",
        "\n",
        "print('List before removing head and tail: ', end=' ')\n",
        "node = num_list.head\n",
        "while node is not None:\n",
        "    print(node.data, end=' ')\n",
        "    node = node.next\n",
        "print()\n",
        "\n",
        "num_list.remove(node_d)\n",
        "num_list.remove(node_f)\n",
        "\n",
        "print('List after removing head and tail: ', end= ' ')\n",
        "node = num_list.head\n",
        "while node != None:\n",
        "  print(node.data, end=' ')\n",
        "  node = node.next\n",
        "print()\n",
        "\n",
        "\n"
      ]
    }
  ]
}