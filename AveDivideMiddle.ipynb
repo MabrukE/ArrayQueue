{
  "nbformat": 4,
  "nbformat_minor": 0,
  "metadata": {
    "colab": {
      "provenance": [],
      "authorship_tag": "ABX9TyPDkkSrpDMV4HPDgLxWNaUF",
      "include_colab_link": true
    },
    "kernelspec": {
      "name": "python3",
      "display_name": "Python 3"
    },
    "language_info": {
      "name": "python"
    }
  },
  "cells": [
    {
      "cell_type": "markdown",
      "metadata": {
        "id": "view-in-github",
        "colab_type": "text"
      },
      "source": [
        "<a href=\"https://colab.research.google.com/github/MabrukE/Code-Doc/blob/main/AveDivideMiddle.ipynb\" target=\"_parent\"><img src=\"https://colab.research.google.com/assets/colab-badge.svg\" alt=\"Open In Colab\"/></a>"
      ]
    },
    {
      "cell_type": "code",
      "execution_count": null,
      "metadata": {
        "id": "cPGFj3IXbVNj",
        "colab": {
          "base_uri": "https://localhost:8080/"
        },
        "outputId": "255d4c32-2be0-45c9-84c4-79f5acdd3cd1"
      },
      "outputs": [
        {
          "output_type": "stream",
          "name": "stdout",
          "text": [
            "3 4 2 3 \n",
            "middle element:  4\n",
            "sum of elements:  12\n",
            "Average of elements:  3.0\n",
            "Average divided by middle elements:  0.75\n"
          ]
        }
      ],
      "source": [
        "def AveDivideMiddle(Num):\n",
        " sum=0\n",
        " Ave=0\n",
        " for i in range(len (Num)):\n",
        "   print(Num[i], end = ' ')\n",
        "   sum=sum+Num[i]\n",
        " print()\n",
        " start=0\n",
        " end =len(Num)-1\n",
        " mid=(start + end)//2\n",
        " Ave=sum/len(Num)\n",
        " print('middle element: ', Num[mid])\n",
        " print('sum of elements: ', sum)\n",
        " print('Average of elements: ', Ave)\n",
        " print('Average divided by middle elements: ', Ave/Num[mid])\n",
        "\n",
        "Num=[3,4,2,3]\n",
        "AveDivideMiddle(Num)"
      ]
    }
  ]
}