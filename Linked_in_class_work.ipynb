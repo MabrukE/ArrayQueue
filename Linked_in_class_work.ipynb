{
  "nbformat": 4,
  "nbformat_minor": 0,
  "metadata": {
    "colab": {
      "provenance": [],
      "authorship_tag": "ABX9TyMvHq2t8i9K3EBfYE1JWSFZ",
      "include_colab_link": true
    },
    "kernelspec": {
      "name": "python3",
      "display_name": "Python 3"
    },
    "language_info": {
      "name": "python"
    }
  },
  "cells": [
    {
      "cell_type": "markdown",
      "metadata": {
        "id": "view-in-github",
        "colab_type": "text"
      },
      "source": [
        "<a href=\"https://colab.research.google.com/github/MabrukE/Code-Doc/blob/main/Linked_in_class_work.ipynb\" target=\"_parent\"><img src=\"https://colab.research.google.com/assets/colab-badge.svg\" alt=\"Open In Colab\"/></a>"
      ]
    },
    {
      "cell_type": "code",
      "execution_count": null,
      "metadata": {
        "id": "zY7vt2tC15Xi"
      },
      "outputs": [],
      "source": [
        "class Node:\n",
        "    def __init__(self, initial_data=None):\n",
        "        self.data = initial_data\n",
        "        self.next = None\n",
        "\n",
        "\n",
        "class linked_list:\n",
        "    def __init__(self):\n",
        "        self.head = None\n",
        "        self.tail = None\n",
        "\n",
        "    def append(self, new_node):\n",
        "        if self.head is None:\n",
        "            self.head = new_node\n",
        "            self.tail = new_node\n",
        "        else:\n",
        "            self.tail.next = new_node\n",
        "            self.tail = new_node\n",
        "\n",
        "    def prepend(self, new_node):\n",
        "        if self.head is None:\n",
        "            self.head = new_node\n",
        "            self.tail = new_node\n",
        "        else:\n",
        "            new_node.next = self.head\n",
        "            self.head = new_node\n",
        "\n",
        "    def insert_after(self, current_node, new_node):\n",
        "        if self.head is None:\n",
        "            self.head = new_node\n",
        "            self.tail = new_node\n",
        "        elif current_node is self.tail:\n",
        "            self.tail.next = new_node\n",
        "            self.tail = new_node\n",
        "        else:\n",
        "            new_node.next = current_node.next\n",
        "            current_node.next = new_node\n",
        "\n",
        "    def remove_after(self, current_node):\n",
        "     headvalue=self.head\n",
        "     if (headvalue==None):\n",
        "      return\n",
        "\n",
        "     if(headvalue is not None):\n",
        "      if(headvalue.data==current_node.data):\n",
        "        self.head=headvalue.next\n",
        "        headvalue=None\n",
        "        return\n",
        "\n",
        "     while (headvalue is not None):\n",
        "      if headvalue.data==current_node.data:\n",
        "        break\n",
        "      prev=headvalue\n",
        "      headvalue=headvalue.next\n",
        "\n",
        "     prev.next=headvalue.next\n",
        "     headvalue=None\n",
        "\n",
        "\n",
        "\n"
      ]
    },
    {
      "cell_type": "code",
      "source": [
        "if __name__ == '__main__':\n",
        "    num_list = linked_list()\n",
        "    num_a = Node(6)\n",
        "    num_b = Node(7)\n",
        "    num_c = Node(18)\n",
        "    num_d = Node(9)\n",
        "    num_a1 = Node(4)\n",
        "\n",
        "    num_list.append(num_b)\n",
        "    num_list.append(num_c)\n",
        "\n",
        "\n",
        "    num_list.prepend(num_a)\n",
        "    num_list.prepend(num_a1)\n",
        "\n",
        "\n",
        "    num_list.insert_after(num_c, num_d)\n",
        "\n",
        "\n",
        "    print('List after adding nodes: ', end=' ')\n",
        "    node = num_list.head\n",
        "    while node is not None:\n",
        "        print(node.data, end=' ')\n",
        "        node = node.next\n",
        "\n",
        "    print()\n",
        "\n",
        "    num_list.remove_after(num_a)\n",
        "    num_list.remove_after(num_b)\n",
        "    num_list.remove_after(num_c)\n",
        "    num_list.remove_after(num_d)\n",
        "\n",
        "\n",
        "\n",
        "\n",
        "    print('list after removing node: ', end=' ')\n",
        "    node = num_list.head\n",
        "    while node != None:\n",
        "        print(node.data, end=' ')\n",
        "        node = node.next\n",
        "    print()\n",
        ""
      ],
      "metadata": {
        "colab": {
          "base_uri": "https://localhost:8080/"
        },
        "id": "cI9BK1YH19pX",
        "outputId": "9b08ac8d-09e6-405f-b40a-e2b0cf7d1ba0"
      },
      "execution_count": null,
      "outputs": [
        {
          "output_type": "stream",
          "name": "stdout",
          "text": [
            "List after adding nodes:  4 6 7 18 9 \n",
            "list after removing node:  4 \n"
          ]
        }
      ]
    }
  ]
}