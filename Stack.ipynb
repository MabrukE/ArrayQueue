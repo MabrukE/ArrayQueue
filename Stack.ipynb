{
  "nbformat": 4,
  "nbformat_minor": 0,
  "metadata": {
    "colab": {
      "provenance": [],
      "authorship_tag": "ABX9TyPQYHB2Ir9I0dJBNNLHYZ6e",
      "include_colab_link": true
    },
    "kernelspec": {
      "name": "python3",
      "display_name": "Python 3"
    },
    "language_info": {
      "name": "python"
    }
  },
  "cells": [
    {
      "cell_type": "markdown",
      "metadata": {
        "id": "view-in-github",
        "colab_type": "text"
      },
      "source": [
        "<a href=\"https://colab.research.google.com/github/MabrukE/Code-Doc/blob/main/Stack.ipynb\" target=\"_parent\"><img src=\"https://colab.research.google.com/assets/colab-badge.svg\" alt=\"Open In Colab\"/></a>"
      ]
    },
    {
      "cell_type": "code",
      "execution_count": null,
      "metadata": {
        "colab": {
          "base_uri": "https://localhost:8080/"
        },
        "id": "heq4wnF_-Kqb",
        "outputId": "8327592c-0ebb-4878-9560-e164d8a5ae37"
      },
      "outputs": [
        {
          "output_type": "stream",
          "name": "stdout",
          "text": [
            "Yes\n"
          ]
        }
      ],
      "source": [
        "class Stack:\n",
        "  def __int__(self, optional_max_length = -1):\n",
        "    self.stack_list = []\n",
        "    self.max_length = optional_max_length\n",
        "\n",
        "  def __len__(self):\n",
        "    return len(self.stack_list)\n",
        "\n",
        "  def pop(self):\n",
        "    return self.stack_list.pop()\n",
        "\n",
        "  def push(self, item):\n",
        "    if len(self.stack_list) == self.max_length:\n",
        "      return True\n",
        "    self.stack_list.append(item)\n",
        "    return True\n",
        "  def isPalindrome(s):\n",
        "\n",
        "\n",
        "    s = s.lower()\n",
        "\n",
        "    l = len(s)\n",
        "\n",
        "\n",
        "    if l < 2:\n",
        "        return True\n",
        "\n",
        "\n",
        "    elif s[0] == s[l - 1]:\n",
        "\n",
        "\n",
        "        return isPalindrome(s[1: l - 1])\n",
        "\n",
        "    else:\n",
        "        return False\n",
        "\n",
        "\n",
        "s = \"malayalam\"\n",
        "ans = isPalindrome\n",
        "if ans:\n",
        "    print(\"Yes\")\n",
        "\n",
        "else:\n",
        "    print(\"No\")\n",
        "\n",
        "\n",
        "\n"
      ]
    }
  ]
}